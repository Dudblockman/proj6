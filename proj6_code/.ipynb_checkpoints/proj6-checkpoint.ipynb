{
 "cells": [
  {
   "cell_type": "markdown",
   "metadata": {
    "colab": {
     "base_uri": "https://localhost:8080/",
     "height": 35
    },
    "colab_type": "code",
    "id": "fiK4QNWKDvWJ",
    "outputId": "3472566e-5e30-47b8-a3f4-b67bf3a89af0"
   },
   "source": [
    "# Scene Recognition with Deep Learning\n",
    "For this project we are going to focus for image classification on the 15-scene data with the state-of-the-art approach: deep learning.\n",
    "\n",
    "Basic learning objectives of this project:\n",
    "1. Construct the fundamental pipeline for performing deep learning using PyTorch;\n",
    "2. Understand the concepts behind different layers, optimizers, and learning schedules;\n",
    "3. Experiment with different models and observe the performance.\n",
    "\n",
    "The starter code is mostly initialized to 'placeholder' just so that the starter\n",
    "code does not crash when run unmodified and you can get a preview of how\n",
    "results are presented.\n",
    "\n",
    "This project is intended to further familiarize you with Python, PyTorch. Once again, you may find these resources helpful. Python: [here](https://docs.python.org/3/tutorial/). PyTorch: [here](https://pytorch.org/tutorials/)."
   ]
  },
  {
   "cell_type": "markdown",
   "metadata": {},
   "source": [
    "## Brief\n",
    "    Hand-in: through Canvas\n",
    "    Required files: <your_uid>.zip.(Please begin with 'u' for your uid)\n",
    "                    <your_uid>_proj6.pdf\n",
    "\n",
    "\n",
    "### Setup\n",
    "\n",
    "Take note that some of the concepts used in this project have NOT been covered in lectures, hence you may want to use this instruction page as the reference material when you proceed to each section.\n",
    "\n",
    "We will be installing a NEW environment for this project; follow the instructions below to set up the env. If you run into import module errors, try “pip install -e .” again, and if that still doesn’t work, you may have to create a fresh environment.\n",
    "\n",
    "Note that although we are training a neural net from scratch for this project, your laptop should be sufficient to handle this (expecting a 5 to 10 minutes training time for Part 1 and 2, and roughly 20 to 30 minutes for Part 3 with only the CPU); you are free to use Google Colab on this, but you may need to figure out a way of putting both the notebook and the dataset into your Google Drive and mount it in the Colab notebook (this tutorial covers everything you need to know to set it up).\n",
    "    \n",
    "   0. Unzip proj6_6320.zip and go to proj6_6320 directory.\n",
    "      - You can run `unzip proj6_6320.zip && mv proj6_train.zip proj6_6320/data && mv proj6_test.zip proj6_6320/data` in your terminal.\n",
    "      - Run `cd proj6_6320/data && unzip proj6_train.zip && unzip proj6_test.zip && cd ..`\n",
    "   1. Install [Miniconda](https://docs.conda.io/en/latest/miniconda.html). It doesn’t matter whether you use Python 2 or 3 because we will create our own environment that uses 3 anyways.\n",
    "   2. Create a conda environment using the appropriate command. On Windows, open the installed “Conda prompt” to run the command. On MacOS and Linux, you can just use a terminal window to run the command, Modify the command based on your OS (linux, mac, or win): `conda env create -f proj6_env_<OS>.yml`.\n",
    "    - NOTE that `proj6_env_<OS>.yml` is inside the project folder.\n",
    "   3. This should create an environment named ‘proj6’. Activate it using the Windows command, activate proj6 or the MacOS / Linux command, `source activate proj6`\n",
    "   4. Install the project package, by running `pip install -e .` inside the repo folder.\n",
    "   5. Run the notebook using `jupyter notebook` under *proj6_6320* directory.\n",
    "   6. Ensure that all sanity checks are passing by running pytest tests inside the \"proj6_unit_tests/\" folder.\n",
    "   7. Generate the zip folder for the code portion of your submission once you’ve finished the project using \n",
    "    \n",
    "        `python zip_submission.py --uid <your_uid>` \n",
    "\n",
    "\n",
    "<!-- ## Library Functions \n",
    "Do not use any library functions to implement Hough Transform. -->\n",
    "\n",
    "\n",
    "### Writeup\n",
    "For this project, you need to run all your cells and then convert the notebook into pdf. A conversion way is to use the tool provided by Jupyter. Click the items on the menu of this website page:\n",
    "\n",
    "`File -> Download as -> PDF via LaTeX(.pdf)`\n",
    "    \n",
    "You can download it as HTML if the above option doesn't work.\n",
    "    \n",
    "You can refer [here](1) in case you encounter any problem. \n",
    "    \n",
    "[1]: https://stackoverflow.com/questions/29156653/ipython-jupyter-problems-saving-notebook-as-pdf\n",
    "    \n",
    "Your code, results, visualization, and discussion will be used for the grading. You will be deducted points if the results are not shown in this notebook. Do not change the order of the cells. You can add cells in need. You can copy a cell and run it seperately if you need to run a cell multiple times and thus every result is displayed in the cell.\n",
    "    \n",
    "### Submission Format\n",
    "\n",
    "This is very important as you will lose 5 points for every time you do not follow the instructions. You will attach two items in your submission on Canvas:\n",
    "\n",
    "1. `<your_uid>`.zip containing:\n",
    "    `<your_uid>`.zip via Canvas containing:\n",
    "    - proj5_code/ - directory containing all your code for this assignment\n",
    "    - README.txt - (optional) if you implement any new functions other than the ones we define in the skeleton code (e.g. any extra credit implementations), please describe what you did and how we can run the code. We will not award any extra credit if we can’t run your code and verify the results.\n",
    "\n",
    "2. `<your_gt_username>`_proj6.pdf - your report\n",
    "\n",
    "Do not install any additional packages inside the conda environment. The TAs will use the same environment as defined in the config files we provide you, so anything that’s not in there by default will probably cause your code to break during grading. Do not use absolute paths in your code or your code will break. Use relative paths like the starter code already does. Failure to follow any of these instructions will lead to point deductions. Create the zip file using python zip_submission.py --uid `<your_uid>` (it will zip up the appropriate directories/files for you!)"
   ]
  },
  {
   "cell_type": "markdown",
   "metadata": {},
   "source": [
    "### Rubric\n",
    "* +25 pts: Part1   \n",
    "* +30 pts: Part2\n",
    "* +35 pts: Part3\n",
    "* +10  pts: pdf report\n",
    "\n",
    "Distribution of the points in a Question is separately mentioned for each sub-task\n",
    "\n",
    "* -5*n pts: Lose 5 points for every time you do not follow the instructions for the hand-in format.\n",
    "    \n",
    "### Extra Credits\n",
    "    \n",
    "SimpleNet:\n",
    "\n",
    "* Up to 4 pts: In Part 2, modify the network architecture and achieve a final testing accuracy of 63%; note that you are NOT allowed to add more nn.Conv2d into the model; instead, think about how to improve the model with a concept called “batch normalization”.\n",
    "\n",
    "AlexNet and beyond:\n",
    "\n",
    "* Up to 4 pts: Fine-tune your AlexNet and reach a testing accuracy of 93%.\n",
    "* Up to 6 pts: Fine-tune another network like torchvision.models.resnet, and reach a testing accuracy of 90%.\n",
    "    \n"
   ]
  },
  {
   "cell_type": "markdown",
   "metadata": {},
   "source": [
    "## Datasets\n",
    "The dataset to be used in this assignment is the 15-scene dataset, containing natural images in 15 possible scenarios like bedrooms and coasts. It’s first introduced by [Lazebnik et al, 2006](https://www.di.ens.fr/willow/pdfs/cvpr06b.pdf). The images have a typical size of around 200 by 200 pixels, and serve as a good milestone for many vision tasks. A sample collection of the images can be found below:\n",
    "<img src=\"figures/dataset.png\" alt=\"drawing\" width=\"800\" title=\"eval\"/>"
   ]
  },
  {
   "cell_type": "code",
   "execution_count": 1,
   "metadata": {},
   "outputs": [],
   "source": [
    "import sys\n",
    "sys.path.append('..')"
   ]
  },
  {
   "cell_type": "code",
   "execution_count": 2,
   "metadata": {
    "colab": {
     "base_uri": "https://localhost:8080/",
     "height": 52
    },
    "colab_type": "code",
    "id": "g1dqr6qSBpE2",
    "outputId": "2a6bb055-8fb2-4b0e-b137-31efc09c375b"
   },
   "outputs": [],
   "source": [
    "from proj6_code.runner import Trainer\n",
    "from proj6_code.optimizer import get_optimizer\n",
    "from proj6_code.simple_net import SimpleNet\n",
    "from proj6_code.simple_net_dropout import SimpleNetDropout\n",
    "from proj6_code.my_alexnet import MyAlexNet\n",
    "from proj6_code.image_loader import ImageLoader\n",
    "from proj6_code.data_transforms import get_fundamental_transforms, get_data_augmentation_transforms\n",
    "from proj6_code.stats_helper import compute_mean_and_std\n",
    "\n",
    "import torch\n",
    "\n",
    "%load_ext autoreload\n",
    "%autoreload 2"
   ]
  },
  {
   "cell_type": "code",
   "execution_count": 3,
   "metadata": {},
   "outputs": [],
   "source": [
    "from proj6_unit_tests.test_base import verify\n",
    "from proj6_unit_tests.test_stats_helper import test_mean_and_variance\n",
    "from proj6_unit_tests.test_image_loader import test_dataset_length, test_unique_vals, test_class_values, test_load_img_from_path\n",
    "from proj6_unit_tests.test_data_transforms import test_fundamental_transforms\n",
    "from proj6_unit_tests.test_dl_utils import test_predict_labels, test_compute_loss\n",
    "from proj6_unit_tests.test_simple_net import test_simple_net\n",
    "from proj6_unit_tests.test_simple_net_dropout import test_simple_net_dropout\n",
    "from proj6_unit_tests.test_my_alexnet import test_my_alexnet"
   ]
  },
  {
   "cell_type": "code",
   "execution_count": 4,
   "metadata": {
    "colab": {},
    "colab_type": "code",
    "id": "GjE0jIc5BpFN"
   },
   "outputs": [
    {
     "name": "stdout",
     "output_type": "stream",
     "text": [
      "On this machine, there is no cuda\n"
     ]
    }
   ],
   "source": [
    "is_cuda = True\n",
    "is_cuda = is_cuda and torch.cuda.is_available() # will turn off cuda if the machine doesnt have a GPU\n",
    "\n",
    "if is_cuda:\n",
    "    print(\"On this machine, there is cuda\")\n",
    "else:\n",
    "    print(\"On this machine, there is no cuda\")"
   ]
  },
  {
   "cell_type": "markdown",
   "metadata": {},
   "source": [
    "## Part1: A SimpleNet: Dataset, Model, and Trainer\n",
    "\n",
    "**Learning Objective:** \n",
    "\n",
    "    (1) Understanding the rationale behind data pre-processing, \n",
    "    (2) construct a basic Convolutional Neural Net for multi-class classification, \n",
    "    (3) understand the use of some basic layers used in neural net, and \n",
    "    (4) set up the training workflow in PyTorch.\n",
    "\n",
    "**Introduction**\n",
    "\n",
    "In this part, we are going to train a simple convolutional neural net from scratch. We’ll be starting with some modification to the dataloader used in this project to include a few extra pre-processing steps. Subsequently, you will define your own model and optimization function. A trainer class will be provided to you, and you will be able to test out the performance of your model with this complete pipeline of classification problem.\n",
    "\n",
    "To train a network in PyTorch, we need 4 components:\n",
    "1. **Dataset** - an object which can load the data and labels given an index.\n",
    "2. **Model** - an object that contains the network architecture definition.\n",
    "3. **Loss function** - a function that measures how far the network output is from the ground truth label.\n",
    "4. **Optimizer** - an object that optimizes the network parameters to reduce the loss value.\n",
    "\n",
    "### Experiment and Report:\n",
    "For Part 1, note that you are required to get a final validation accuracy of **50%** to receive full credits.\n"
   ]
  },
  {
   "cell_type": "markdown",
   "metadata": {
    "colab_type": "text",
    "id": "aGSv2QfBBpFZ"
   },
   "source": [
    "### Part 1.1: Datasets, Dataloader, and Data Transforms\n",
    "In this part you’ll be implementing the basic Datasets object, which helps to retrieve the data from your local data folder, and prepare to be used by your model. To start with, finish the compute_mean_and_std() function in stats_helper.py and compute the mean and standard deviation of the dataset. Check out the relevant function in [sklearn](https://scikit-learn.org/stable/modules/generated/sklearn.preprocessing.StandardScaler.html) which might be helpful for this; you may probably want to use the function partial_fit here. **Note** that here we want to compute the mean and standard deviation for **all pixels across all images** after you have normalized each image to the range [0, 1], hence when you apply partial_fit, your feature dimension should be 1 and the returning mean and standard deviation should both be a single value. Think about how you can achieve this by reshaping the input to the scaler.\n",
    "\n",
    "Next, fill in the ImageLoader class in image_loader.py. Note that similar to what you have implemented in Project 1, here the ImageLoader class contains the paths to the dataset images, and should be able to return the expected element given an index. More details can be found in the file.\n",
    "\n",
    "Additionally, in data_transforms.py, complete the function get_fundamental_transforms(): resize the input, convert it to a tensor, and normalize it using the passed in mean and standard deviation. You may find torchvision.transforms.Resize, torchvision.transforms.ToTensor, torchvision.transforms.Normalize, and torchvision.transforms.Compose useful here, and it should only take a few lines of code.\n",
    "\n",
    "### Datasets\n",
    "\n",
    "One crucial aspect of deep learning is to perform data preprocessing. In this project we are going to \"zero-center\" and \"normalize\" the dataset. \n",
    "\n",
    "### Compute mean and standard deviation of the dataset\n",
    "To begin with, fill in the `compute_mean_and_std()` in `stats_helper.py` to compute the **mean** and **standard deviation** of both training and validation data."
   ]
  },
  {
   "cell_type": "code",
   "execution_count": 5,
   "metadata": {
    "colab": {},
    "colab_type": "code",
    "id": "vWA_2UbjBpFd"
   },
   "outputs": [
    {
     "name": "stdout",
     "output_type": "stream",
     "text": [
      "[0.45547486] [0.25316328]\n",
      "Testing your mean and std computation:  \u001b[32m\"Correct\"\u001b[0m\n",
      "[0.45547486] [0.25316328]\n"
     ]
    }
   ],
   "source": [
    "print(\"Testing your mean and std computation: \", verify(test_mean_and_variance))\n",
    "dataset_mean, dataset_std = compute_mean_and_std('../data/')"
   ]
  },
  {
   "cell_type": "code",
   "execution_count": 6,
   "metadata": {
    "colab": {
     "base_uri": "https://localhost:8080/",
     "height": 35
    },
    "colab_type": "code",
    "id": "xixFr8CDBpFn",
    "outputId": "267d219f-8089-4b25-9e4d-c9cc5a8699e2"
   },
   "outputs": [
    {
     "name": "stdout",
     "output_type": "stream",
     "text": [
      "Dataset mean = [0.45547486], standard deviation = [0.25316328]\n"
     ]
    }
   ],
   "source": [
    "print('Dataset mean = {}, standard deviation = {}'.format(dataset_mean, dataset_std))"
   ]
  },
  {
   "cell_type": "markdown",
   "metadata": {
    "colab_type": "text",
    "id": "-2TeGbrQBpFu"
   },
   "source": [
    "Now let's create the **Datasets** object to be used later. Remember back in Project 1, we have initialized such a class to load 5 images? Here the task is similar: download the data into the project folder, and then complete the `image_loader.py`. The essence is to retrieve the paths to all the images required, and be able to provide the **path** and the **class id** when given an index."
   ]
  },
  {
   "cell_type": "code",
   "execution_count": 7,
   "metadata": {
    "colab": {},
    "colab_type": "code",
    "id": "THRvAvluXFcS"
   },
   "outputs": [
    {
     "name": "stdout",
     "output_type": "stream",
     "text": [
      "Testing your image loader (length): \u001b[32m\"Correct\"\u001b[0m\n",
      "Testing your image loader (values): \u001b[32m\"Correct\"\u001b[0m\n",
      "Testing your image loader (classes): \u001b[32m\"Correct\"\u001b[0m\n",
      "Testing your image loader (paths): \u001b[32m\"Correct\"\u001b[0m\n"
     ]
    }
   ],
   "source": [
    "inp_size = (64,64)\n",
    "print(\"Testing your image loader (length):\", verify(test_dataset_length))\n",
    "print(\"Testing your image loader (values):\", verify(test_unique_vals))\n",
    "print(\"Testing your image loader (classes):\", verify(test_class_values))\n",
    "print(\"Testing your image loader (paths):\", verify(test_load_img_from_path))"
   ]
  },
  {
   "cell_type": "markdown",
   "metadata": {},
   "source": [
    "### Data transforms\n",
    "For this part, complete the function `get_fundamental_transforms()` in `data_transforms.py` to compile a list of fundamental transforms which:\n",
    "1. Resize the input image to the desired shape;\n",
    "2. Convert it to a tensor;\n",
    "3. Normalize them based on the computed mean and standard deviation."
   ]
  },
  {
   "cell_type": "code",
   "execution_count": 8,
   "metadata": {},
   "outputs": [
    {
     "name": "stdout",
     "output_type": "stream",
     "text": [
      "Testing your fundamental data transforms:  \u001b[32m\"Correct\"\u001b[0m\n"
     ]
    }
   ],
   "source": [
    "print(\"Testing your fundamental data transforms: \", verify(test_fundamental_transforms))"
   ]
  },
  {
   "cell_type": "markdown",
   "metadata": {},
   "source": [
    "### Part 1.2: SimpleNet:Model\n",
    "The data is ready! Now we are preparing to move to the actual core of deep learning: the architecture. Now open the simple_net.py and fill in the model definition. By now you should have a decent grasp on how to properly define a deep learning model using nn.Conv2d, nn.ReLU, nn.MaxPool2d, etc. For this part, define a convolutional neural network with 2 conv layers (and the corresponding ReLU, MaxPool, and Fully Connected layers) which aligns with our training dataset (15 classes). Below you may find a sample network architecture which is sufficient to get you pass Part 1 (it's the architecture TAs used in their implementation and is sufficient to get you pass Part 1).\n",
    "<img src=\"figures/net.jpg\" alt=\"drawing\" width=\"1000\" title=\"eval\"/>\n",
    "\n",
    "After you have defined the proper model, now fill in the forward function, which accepts the input (a batch of images), and generates the output classes (this should only take a couple of lines of code).\n",
    "\n",
    "### Model\n",
    "To get you started in this part, simply define a **2-layer** model in the `simple_net.py`. Here by \"2 layers\" we mean **2 convolutional layers**, so you need to figure out the supporting utilities like ReLU, Max Pooling, and Fully Connected layers, and configure them with proper parameters to make the tensor flow.\n"
   ]
  },
  {
   "cell_type": "code",
   "execution_count": 9,
   "metadata": {
    "colab": {},
    "colab_type": "code",
    "id": "jvVL-ap0BpFx"
   },
   "outputs": [
    {
     "name": "stdout",
     "output_type": "stream",
     "text": [
      "Testing your SimpleNet architecture:  \u001b[32m\"Correct\"\u001b[0m\n"
     ]
    }
   ],
   "source": [
    "print(\"Testing your SimpleNet architecture: \", verify(test_simple_net))"
   ]
  },
  {
   "cell_type": "code",
   "execution_count": 17,
   "metadata": {},
   "outputs": [],
   "source": [
    "simple_model = SimpleNet()"
   ]
  },
  {
   "cell_type": "markdown",
   "metadata": {},
   "source": [
    "### Loss function\n",
    "When defining your model architecture, also initialize the `loss_criterion` variable there. Remeber this is multi-class classification problem, and think about what loss function might be useful here."
   ]
  },
  {
   "cell_type": "code",
   "execution_count": 18,
   "metadata": {},
   "outputs": [
    {
     "name": "stdout",
     "output_type": "stream",
     "text": [
      "SimpleNet(\n",
      "  (cnn_layers): Sequential(\n",
      "    (0): Conv2d(1, 10, kernel_size=(5, 5), stride=(1, 1))\n",
      "    (1): ReLU()\n",
      "    (2): MaxPool2d(kernel_size=3, stride=3, padding=0, dilation=1, ceil_mode=False)\n",
      "    (3): Conv2d(10, 20, kernel_size=(5, 5), stride=(1, 1))\n",
      "    (4): ReLU()\n",
      "    (5): MaxPool2d(kernel_size=3, stride=3, padding=0, dilation=1, ceil_mode=False)\n",
      "    (6): Flatten()\n",
      "    (7): Linear(in_features=500, out_features=100, bias=True)\n",
      "    (8): ReLU()\n",
      "    (9): Linear(in_features=100, out_features=15, bias=True)\n",
      "  )\n",
      "  (fc_layers): Sequential()\n",
      "  (loss_criterion): CrossEntropyLoss()\n",
      ")\n"
     ]
    }
   ],
   "source": [
    "print(simple_model)"
   ]
  },
  {
   "cell_type": "markdown",
   "metadata": {},
   "source": [
    "### Optimizer\n",
    "Next, **initialize the following cell with proper values for learning rate and weight decay** (you can come back and tune these values for better performance once the trainer section is done), and then fill in the `optimizer.py` to initialize a basic optimization function; this should only take a few lines of code."
   ]
  },
  {
   "cell_type": "code",
   "execution_count": 33,
   "metadata": {
    "colab": {},
    "colab_type": "code",
    "id": "V2cwtK5PBpF7"
   },
   "outputs": [],
   "source": [
    "# TODO: add a decent initial setting and tune from there\n",
    "optimizer_config = {\n",
    "  \"optimizer_type\": \"adam\",\n",
    "  \"lr\": 8e-4,\n",
    "  \"weight_decay\": 3e-3\n",
    "}"
   ]
  },
  {
   "cell_type": "code",
   "execution_count": 34,
   "metadata": {
    "colab": {},
    "colab_type": "code",
    "id": "P0CrYZa4BpGE"
   },
   "outputs": [],
   "source": [
    "optimizer = get_optimizer(simple_model, optimizer_config)"
   ]
  },
  {
   "cell_type": "markdown",
   "metadata": {},
   "source": [
    "### Part 1.3: SimpleNet: Trainer\n",
    "We have provided you with a basic trainer (check out the runner.py) where we’ll load in the dataset and train the network you have defined for some epochs. To complete this section, first assign proper values to the dict optimizer_config in the Jupyter notebook with reasonable **learning rate** and **weight decay**, and then fill in the optimizer.py with the default optimization function Adam.\n",
    "\n",
    "Next, in dl_utils.py, complete predict_labels() and compute_loss(), where you are given an input model, and calculate the corresponding predictions and loss respectively; these functions will be used in the training process later.\n",
    "\n",
    "Lastly, train it using the starter code in Jupyter Notebook, and report the training process according to the report. Take note that you may use these values (“lr” and “weight_decay”) as a starting point to tune your parameters to pass this part.\n",
    "\n",
    "You should be able to achieve a 50% accuracy with ease.Here a couple of lines of code for a 2 layer neural net have easily defeated that!\n",
    "\n",
    "Note that although you are **NOT** required to modify anything in the runner.py, it is still highly recommended to read through the code and understand how to properly define the training process, as well as record the loss history.\n",
    "\n",
    "### Trainer\n",
    "Next we define the trainer for the model; to start, complete the `predict_labels()` and `compute_loss()` in `dl_utils.py`: given a model, compute the corresponding predictions and loss respectively."
   ]
  },
  {
   "cell_type": "code",
   "execution_count": 35,
   "metadata": {},
   "outputs": [
    {
     "name": "stdout",
     "output_type": "stream",
     "text": [
      "Testing your trainer (model prediction):  \u001b[32m\"Correct\"\u001b[0m\n",
      "Testing your trainer (loss values):  \u001b[32m\"Correct\"\u001b[0m\n"
     ]
    }
   ],
   "source": [
    "print(\"Testing your trainer (model prediction): \", verify(test_predict_labels))\n",
    "print(\"Testing your trainer (loss values): \", verify(test_compute_loss))"
   ]
  },
  {
   "cell_type": "markdown",
   "metadata": {},
   "source": [
    "Then pass in the model, optimizer, transforms for both the training and testing datasets into the trainer, and proceed to the next cell to train it. If you have implemented everything correctly, you should be seeing a decreasing loss value.\n",
    "\n",
    "**Note** that your CPU should be sufficient to handle the training process for all networks in this project, and the following training cells will take less than 5 minutes; you may also want to decrease the value for `num_epochs` and quickly experiment with your parameters. The default value of **30** is good enough to get you around the threshold for Part 1, and you are free to increase it a bit and adjust other parameters in this part."
   ]
  },
  {
   "cell_type": "code",
   "execution_count": 36,
   "metadata": {
    "colab": {},
    "colab_type": "code",
    "id": "UiGOvPJfBpGO"
   },
   "outputs": [],
   "source": [
    "trainer = Trainer(data_dir='../data/', \n",
    "                  model = simple_model,\n",
    "                  optimizer = optimizer,\n",
    "                  model_dir = '../model_checkpoints/simple_net',\n",
    "                  train_data_transforms = get_fundamental_transforms(inp_size, dataset_mean, dataset_std),\n",
    "                  test_data_transforms = get_fundamental_transforms(inp_size, dataset_mean, dataset_std),\n",
    "                  batch_size = 32,\n",
    "                  load_from_disk = False,\n",
    "                  cuda = is_cuda\n",
    "                 )"
   ]
  },
  {
   "cell_type": "code",
   "execution_count": 37,
   "metadata": {
    "colab": {
     "base_uri": "https://localhost:8080/",
     "height": 1000
    },
    "colab_type": "code",
    "id": "paNLyU5cBpGX",
    "outputId": "56af8728-d91c-4886-c73b-d12044ffe40a",
    "scrolled": false
   },
   "outputs": [
    {
     "name": "stdout",
     "output_type": "stream",
     "text": [
      "Epoch:1, Loss:0.2021\n",
      "Epoch:2, Loss:0.0279\n",
      "Epoch:3, Loss:0.1836\n",
      "Epoch:4, Loss:0.0366\n",
      "Epoch:5, Loss:0.0656\n",
      "Epoch:6, Loss:0.0459\n",
      "Epoch:7, Loss:0.4858\n",
      "Epoch:8, Loss:0.0808\n",
      "Epoch:9, Loss:0.0554\n",
      "Epoch:10, Loss:0.0023\n",
      "Epoch:11, Loss:0.0138\n",
      "Epoch:12, Loss:0.0043\n",
      "Epoch:13, Loss:0.0111\n",
      "Epoch:14, Loss:0.0132\n",
      "Epoch:15, Loss:0.0463\n",
      "Epoch:16, Loss:0.0232\n",
      "Epoch:17, Loss:0.0127\n",
      "Epoch:18, Loss:0.0219\n",
      "Epoch:19, Loss:0.4228\n",
      "Epoch:20, Loss:0.1632\n",
      "Epoch:21, Loss:0.3489\n",
      "Epoch:22, Loss:0.0306\n",
      "Epoch:23, Loss:0.0672\n",
      "Epoch:24, Loss:0.0650\n",
      "Epoch:25, Loss:0.0102\n",
      "Epoch:26, Loss:0.0200\n",
      "Epoch:27, Loss:0.0075\n",
      "Epoch:28, Loss:0.0141\n",
      "Epoch:29, Loss:0.0060\n",
      "Epoch:30, Loss:0.0183\n",
      "10.512115697065989\n"
     ]
    }
   ],
   "source": [
    "import time\n",
    "start = time.time()\n",
    "trainer.train(num_epochs=30)\n",
    "end = time.time()\n",
    "print((end - start)/60)"
   ]
  },
  {
   "cell_type": "markdown",
   "metadata": {},
   "source": [
    "After you have finished the training process, now plot out the loss and accuracy history. You can also check out the final accuracy for both training and testing data. Copy the accuracy plots and values onto the report, and answer the questions there. Note that you are required to obtain a **50%** testing accuracy to receive full credits for Part 1."
   ]
  },
  {
   "cell_type": "code",
   "execution_count": 38,
   "metadata": {
    "colab": {
     "base_uri": "https://localhost:8080/",
     "height": 1000
    },
    "colab_type": "code",
    "id": "z0b_WwJhBpGf",
    "outputId": "8d299888-33c6-4234-dc78-5585c9888057",
    "scrolled": true
   },
   "outputs": [
    {
     "data": {
      "image/png": "[encoded data removed]",
      "text/plain": [
       "<Figure size 432x288 with 1 Axes>"
      ]
     },
     "metadata": {
      "needs_background": "light"
     },
     "output_type": "display_data"
    },
    {
     "data": {
      "image/png": "[encoded data removed]",
      "text/plain": [
       "<Figure size 432x288 with 1 Axes>"
      ]
     },
     "metadata": {
      "needs_background": "light"
     },
     "output_type": "display_data"
    }
   ],
   "source": [
    "trainer.plot_loss_history()\n",
    "trainer.plot_accuracy()"
   ]
  },
  {
   "cell_type": "code",
   "execution_count": 39,
   "metadata": {
    "colab": {
     "base_uri": "https://localhost:8080/",
     "height": 35
    },
    "colab_type": "code",
    "id": "8epn0IBmBpGn",
    "outputId": "a9e4d15d-9ac9-4b38-cf26-86a93f734495",
    "scrolled": true
   },
   "outputs": [
    {
     "name": "stdout",
     "output_type": "stream",
     "text": [
      "Train Accuracy = 0.9989949748743718; Validation Accuracy = 0.49933333333333335\n"
     ]
    }
   ],
   "source": [
    "train_accuracy = trainer.train_accuracy_history[-1]\n",
    "validation_accuracy = trainer.validation_accuracy_history[-1]\n",
    "print('Train Accuracy = {}; Validation Accuracy = {}'.format(train_accuracy, validation_accuracy))"
   ]
  },
  {
   "cell_type": "markdown",
   "metadata": {
    "colab_type": "text",
    "id": "G7hE1vidBpGt"
   },
   "source": [
    "## Part 2: Overfitting\n",
    "Feeling good? We have easily obtained a 50% accuracy on the testing data with a very simple model. Feeling even better for the training accuracy right? More than 90% (if you have implemented everything correctly). But should you?\n",
    "\n",
    "Our final accuracies for training and testing data differ a lot from each other, which indicates that the model we have defined **fits too well with the training data, but is unable to generalize well on data it has never seen before**: this is often regarded as **overfitting**. In this section we are going to apply 2 techniques to tackle with it: adjusting both data and model.\n",
    "\n",
    "**Learning Objective:**\n",
    "\n",
    "    (1) Understanding the effects and cause of **overfitting**, \n",
    "    (2) learn about the basic techniques to avoid overfitting, \n",
    "    (3) understand the common data augmentation and transforms used in PyTorch, and \n",
    "    (4) apply the concept of **dropout** in the network.\n",
    "\n",
    "**Introduction**\n",
    "\n",
    "If you have been examining the performance from the previous section, like loss and accuracy, you will notice that our training accuracy is somewhere around **98~100%**, if you have implemented everything correctly. By contrast, the threshold for passing Part 1 is a **50%** accuracy of the testing data; this difference is often regarded as “overfitting”: the model performs much better on the training data, but is not able to generalize well on data it has never seen previously. Normally, 2 reasons lead to this effect:\n",
    "\n",
    "   * **Data:** If you have examined the dataset, you’ll notice that the number of images used for training totals at around 3000; this could be a relatively small number considering we have 15 classes together; can we do better? There are some real-life scenarios where we could get some insights: if you left-right flip (mirror) an image of a scene, it never changes categories. A kitchen doesn’t become a forest when mirrored. This isn’t true in all domains – a “d” becomes a “b” when mirrored, so you can’t “jitter” digit recognition training data in the same way. But we CAN synthetically increase our amount of training data by left-right mirroring training images during the learning process in this particular project.\n",
    "   \n",
    "   * **Model:** We have trained our model to fit well with the training data, but obviously it’s doing “too well”. To counter this, we are going to use a technique called “dropout” to regularize the network. What does dropout regularization do? It randomly turns off network connections at training time to fight overfitting. This prevents a unit in one layer from relying too strongly on a single unit in the previous layer. Dropout regularization can be interpreted as simultaneously training many “thinned” versions of your network. At test time all connections are restored, which is analogous to taking an average prediction over all of the “thinned” networks.\n",
    "   \n",
    "### Experiment and Report:\n",
    "\n",
    "For Part 2, note that you are required to get a final testing accuracy of **55%** to receive full credits. Similar to Part 1, you may need to start with some optimization configuration values in the Jupyter notebook, and gradually tune it for better performance. Also, take a screenshot of what you have done in get_data_augmentation_transforms(), and put it inside the report.\n",
    "\n",
    "### Part 2.1: Jitter, Random Flip, and Normalization\n",
    "One common technique to increase the \"variability\" of the data is to **augment** it. Firstly, we don't have a huge amount of data, so let's \"jitter\" based on it; secondly, when you mirror an image of a **kitchen**, you can tell that the mirrored image is still a kitchen. \n",
    "\n",
    "Open the data_transforms.py: you’ll find some starter code where the data input is cropped in the center and then transformed into a tensor. Add another 2 data transformations in `get_data_augmentation_transforms()` function in `data_transforms.py` where you could jitter the data, and randomly flip the data left-to-right. You may find the methods transforms.RandomHorizontalFlip() and transforms.ColorJitter() helpful in this part. Pay attention to the **position** where you insert those transforms! You may first copy your existing fundamental transform implementation into this function, and then insert a couple of other transforms which help you do the above adjustment.\n",
    "\n"
   ]
  },
  {
   "cell_type": "code",
   "execution_count": 91,
   "metadata": {
    "colab": {},
    "colab_type": "code",
    "id": "Ech4Y22OXOui"
   },
   "outputs": [],
   "source": [
    "inp_size = (64,64)"
   ]
  },
  {
   "cell_type": "markdown",
   "metadata": {},
   "source": [
    "### Part 2.2: Dropout\n",
    "\"Dropout\" is a technique commonly used to regularize the network. It randomly turns off the connection between neurons inside the network and prevent the network from relying too much on a specific neuron. Follow the below instruction and finish the `simple_net_dropout.py` with your previous SimpleNet model, plus the dropout layer, and lastly re-run the training process as below.\n",
    "\n",
    "Open the simple_net_dropout.py, and first copy your existing “SimpleNet” model into this file, and then append a dropout layer in the model. You may use the default dropout probability from nn.Dropout() for regularization.\n",
    "\n",
    "With the new data augmentation and dropout added into the model, let’s re-run the trainer and check its performance. Follow the template code used in the notebook, and train the “regularized” network with the new data transforms. You should be seeing that compared with Part 1, your training accuracy drops but testing accuracy improves.\n"
   ]
  },
  {
   "cell_type": "code",
   "execution_count": 92,
   "metadata": {},
   "outputs": [
    {
     "name": "stdout",
     "output_type": "stream",
     "text": [
      "Testing your SimpleNetDropout architecture:  \u001b[32m\"Correct\"\u001b[0m\n"
     ]
    }
   ],
   "source": [
    "print(\"Testing your SimpleNetDropout architecture: \", verify(test_simple_net_dropout))"
   ]
  },
  {
   "cell_type": "code",
   "execution_count": 93,
   "metadata": {
    "colab": {},
    "colab_type": "code",
    "id": "nlgm5eM-BpGz"
   },
   "outputs": [
    {
     "name": "stdout",
     "output_type": "stream",
     "text": [
      "SimpleNetDropout(\n",
      "  (cnn_layers): Sequential(\n",
      "    (0): Conv2d(1, 10, kernel_size=(5, 5), stride=(1, 1))\n",
      "    (1): ReLU()\n",
      "    (2): Dropout(p=0.5)\n",
      "    (3): MaxPool2d(kernel_size=3, stride=3, padding=0, dilation=1, ceil_mode=False)\n",
      "    (4): Conv2d(10, 20, kernel_size=(5, 5), stride=(1, 1))\n",
      "    (5): ReLU()\n",
      "    (6): MaxPool2d(kernel_size=3, stride=3, padding=0, dilation=1, ceil_mode=False)\n",
      "    (7): Flatten()\n",
      "    (8): Linear(in_features=500, out_features=200, bias=True)\n",
      "    (9): ReLU()\n",
      "    (10): Linear(in_features=200, out_features=100, bias=True)\n",
      "    (11): ReLU()\n",
      "    (12): Linear(in_features=100, out_features=15, bias=True)\n",
      "  )\n",
      "  (fc_layers): Sequential()\n",
      "  (loss_criterion): CrossEntropyLoss()\n",
      ")\n"
     ]
    }
   ],
   "source": [
    "simple_model_dropout = SimpleNetDropout()\n",
    "print(simple_model_dropout)"
   ]
  },
  {
   "cell_type": "markdown",
   "metadata": {},
   "source": [
    "Similar to the previous part, **initialize the following cell with proper values for learning rate and weight decay**."
   ]
  },
  {
   "cell_type": "code",
   "execution_count": 94,
   "metadata": {
    "colab": {},
    "colab_type": "code",
    "id": "btKIvIrdBpG5"
   },
   "outputs": [],
   "source": [
    "# TODO: add a decent initial setting and tune from there\n",
    "optimizer_config = {\n",
    "  \"optimizer_type\": \"adam\",\n",
    "  \"lr\": 1e-3,\n",
    "  \"weight_decay\": 3e-3\n",
    "}"
   ]
  },
  {
   "cell_type": "code",
   "execution_count": 95,
   "metadata": {
    "colab": {},
    "colab_type": "code",
    "id": "peqS_C6QBpG_"
   },
   "outputs": [],
   "source": [
    "optimizer = get_optimizer(simple_model_dropout, optimizer_config)"
   ]
  },
  {
   "cell_type": "code",
   "execution_count": 96,
   "metadata": {
    "colab": {},
    "colab_type": "code",
    "id": "ExoLylurBpHH"
   },
   "outputs": [],
   "source": [
    "trainer = Trainer(data_dir='../data/', \n",
    "                  model = simple_model_dropout,\n",
    "                  optimizer = optimizer,\n",
    "                  model_dir = '../model_checkpoints/simple_net_dropout',\n",
    "                  train_data_transforms = get_data_augmentation_transforms(inp_size, dataset_mean, dataset_std),\n",
    "                  test_data_transforms = get_fundamental_transforms(inp_size, dataset_mean, dataset_std),\n",
    "                  batch_size = 32,\n",
    "                  load_from_disk = False,\n",
    "                  cuda = is_cuda\n",
    "                 )"
   ]
  },
  {
   "cell_type": "markdown",
   "metadata": {},
   "source": [
    "The following cell will take longer than Part 1, as now we have more data (and more variability), and the model is slightly more complicated than before as well; however, it should finish within 10~15 minutes anyway, and the default `num_epochs` is also good enough as a starting point for you to pass this part."
   ]
  },
  {
   "cell_type": "code",
   "execution_count": 97,
   "metadata": {
    "colab": {
     "base_uri": "https://localhost:8080/",
     "height": 548
    },
    "colab_type": "code",
    "id": "-ljUl4UnBpHN",
    "outputId": "c3542fae-c2dc-495b-dd49-d5bb85c7fd79",
    "scrolled": false
   },
   "outputs": [
    {
     "name": "stdout",
     "output_type": "stream",
     "text": [
      "Epoch:1, Loss:2.1272\n",
      "Epoch:2, Loss:2.4091\n",
      "Epoch:3, Loss:1.7536\n",
      "Epoch:4, Loss:1.3836\n",
      "Epoch:5, Loss:2.4908\n",
      "Epoch:6, Loss:1.8376\n",
      "Epoch:7, Loss:1.4721\n",
      "Epoch:8, Loss:1.3294\n",
      "Epoch:9, Loss:1.5704\n",
      "Epoch:10, Loss:1.9509\n",
      "Epoch:11, Loss:0.7557\n",
      "Epoch:12, Loss:1.2243\n",
      "Epoch:13, Loss:1.0248\n",
      "Epoch:14, Loss:1.1388\n",
      "Epoch:15, Loss:1.6840\n",
      "Epoch:16, Loss:0.7010\n",
      "Epoch:17, Loss:1.1603\n",
      "Epoch:18, Loss:0.5874\n",
      "Epoch:19, Loss:0.9137\n",
      "Epoch:20, Loss:1.6106\n",
      "Epoch:21, Loss:0.9879\n",
      "Epoch:22, Loss:0.6578\n",
      "Epoch:23, Loss:0.4320\n",
      "Epoch:24, Loss:1.2784\n",
      "Epoch:25, Loss:0.2272\n",
      "Epoch:26, Loss:0.8459\n",
      "Epoch:27, Loss:0.6188\n",
      "Epoch:28, Loss:1.2518\n",
      "Epoch:29, Loss:0.3581\n",
      "Epoch:30, Loss:0.8548\n",
      "11.911851596832275\n"
     ]
    }
   ],
   "source": [
    "trainer.train(num_epochs=30)"
   ]
  },
  {
   "cell_type": "markdown",
   "metadata": {},
   "source": [
    "Similar to the previous part, now plot out the loss and accuracy history. You'll need to pass a threshold of **55%** to receive full credits for this part. Also copy the plots onto the report, and answer the questions accordingly."
   ]
  },
  {
   "cell_type": "code",
   "execution_count": 98,
   "metadata": {
    "colab": {
     "base_uri": "https://localhost:8080/",
     "height": 1000
    },
    "colab_type": "code",
    "id": "Gdh9AvHIBpHW",
    "outputId": "4fd9e6eb-ebcf-4bbb-a9e6-79db49777661",
    "scrolled": true
   },
   "outputs": [
    {
     "data": {
      "image/png": "[encoded data removed]",
      "text/plain": [
       "<Figure size 432x288 with 1 Axes>"
      ]
     },
     "metadata": {
      "needs_background": "light"
     },
     "output_type": "display_data"
    },
    {
     "data": {
      "image/png": "[encoded data removed]",
      "text/plain": [
       "<Figure size 432x288 with 1 Axes>"
      ]
     },
     "metadata": {
      "needs_background": "light"
     },
     "output_type": "display_data"
    }
   ],
   "source": [
    "trainer.plot_loss_history()\n",
    "trainer.plot_accuracy()"
   ]
  },
  {
   "cell_type": "code",
   "execution_count": 99,
   "metadata": {
    "colab": {
     "base_uri": "https://localhost:8080/",
     "height": 35
    },
    "colab_type": "code",
    "id": "6SLuc3zmBpHd",
    "outputId": "4069ff19-8bcc-44b3-9cd5-8bc8a63e626d"
   },
   "outputs": [
    {
     "name": "stdout",
     "output_type": "stream",
     "text": [
      "Train Accuracy = 0.8050251256281407; Validation Accuracy = 0.5753333333333334\n"
     ]
    }
   ],
   "source": [
    "train_accuracy = trainer.train_accuracy_history[-1]\n",
    "validation_accuracy = trainer.validation_accuracy_history[-1]\n",
    "print('Train Accuracy = {}; Validation Accuracy = {}'.format(train_accuracy, validation_accuracy))"
   ]
  },
  {
   "cell_type": "markdown",
   "metadata": {
    "colab_type": "text",
    "id": "amh1wxlJBpHj"
   },
   "source": [
    "## Part 3: AlexNet\n",
    "You can see that after the above adjustment, our model performance increases in terms of testing accuracy. Although the training accuracy drops, now it's closer to the testing values and that's more natural in terms of performance. But we are not satisfied with the final performance yet. Our model, in the end, is still a 2-layer SimpleNet and it might be capable of capturing some features, but could be improved a lot if we go **deeper**. In this part we are going to see the power of a famous model: AlexNet.\n",
    "\n",
    "**Learning Objective:** \n",
    "\n",
    "    (1) Understanding the rationale of deep learning, \n",
    "    (2) learn to utilize pretrained models defined by PyTorch, \n",
    "    (3) understand the concept of fine-tuning, and \n",
    "    (4) achieve good classification results with the help of pretrained model weights.\n",
    "    \n",
    "### Introduction\n",
    "\n",
    "Ever since 2012, deep learning has been extremely successful in vision related tasks, and everything blows up from a model named AlexNet.\n",
    "\n",
    "Training a relatively complex model like AlexNet completely from scratch is sometimes overwhelming, especially when GPU is not available. However, PyTorch has already incorporated the pretrained weights of some famous model and provide you with the option of loading it directly.\n",
    "\n",
    "#### Part 3.1: AlexNet Model Definition\n",
    "Now switch to my_alexnet.py, and first load the AlexNet using model=torchvision.models.alexnet(pretrained=True).\n",
    "\n",
    "Note that in the original AlexNet model, there are **1000** output classes, while we have 15 for this project. Here we are going to retrieve some layers from an existing network, and concatenate them with your own custom layers: in simple_net.py, when you have obtained the AlexNet model, retrieve the convolutional layers (which helps you to detect the features) and the fully connected layers (which generates the classification scores), remove the last Linear layer, and replace it with a proper layer which could output the scores for 15 classes. You may find module.children() helpful here.\n",
    "\n",
    "#### Part 3.2: Fine-tuning AlexNet\n",
    "Notice that what we have done is merely defining the final layer with the correct dimensions, but the weights of the layer are just some random values and it won’t be able to produce the desired scores. In the Jupyter Notebook, follow the starter code and train the newly defined network. Note that AlexNet has millions of parameters, so training it from scratch could cause problems for your laptop with no GPU support, hence here we are only training it for 5 epochs and the expected running time is around 20 minutes without a GPU. In addition, note that you do NOT need to update the weights for earlier layers of the model, therefore, freeze the weights of the convolution layers and some of the fully connected layers of the model (think about which FC layers to freeze by printing out the model architecture), and then train the network following the template code in the notebook, observe the performance and answer the questions in the report. You may find weight.requires_grad and bias.requires_grad helpful here.\n",
    "\n",
    "### Experiment and Report:\n",
    "\n",
    "For Part 3, note that you are required to get a final testing accuracy of 85% to receive full credits.\n"
   ]
  },
  {
   "cell_type": "code",
   "execution_count": null,
   "metadata": {
    "colab": {},
    "colab_type": "code",
    "id": "ttbhBZ7CXUng"
   },
   "outputs": [],
   "source": [
    "inp_size = (224, 224)"
   ]
  },
  {
   "cell_type": "markdown",
   "metadata": {},
   "source": [
    "### Part 3.1 & 3.2: Fine-tuning the AlexNet\n",
    "Now switch to `my_alexnet.py`, and define a AlexNet which can be fit onto our dataset: PyTorch has provided us with pre-trained models like AlexNet, so what you want to do is to load the model first, and then adjust some of the layers such that it fits with our own dataset, instead of outputing scores to 1000 classes from the original AlexNet model.\n",
    "\n",
    "After you have defined the correct architecture of the model, make some tweaks to the existing layers: **freeze** the **convolutional** layers and first 2 **linear** layers so we don't update the weights of them; more details can be found in the instruction webpage."
   ]
  },
  {
   "cell_type": "code",
   "execution_count": null,
   "metadata": {},
   "outputs": [],
   "source": [
    "print(\"Testing your AlexNet architecture: \", verify(test_my_alexnet))"
   ]
  },
  {
   "cell_type": "code",
   "execution_count": null,
   "metadata": {
    "colab": {},
    "colab_type": "code",
    "id": "CBoLgRrlBpHl"
   },
   "outputs": [],
   "source": [
    "my_alexnet = MyAlexNet()\n",
    "print(my_alexnet)"
   ]
  },
  {
   "cell_type": "code",
   "execution_count": null,
   "metadata": {
    "colab": {},
    "colab_type": "code",
    "id": "J6AYkHAgBpHw"
   },
   "outputs": [],
   "source": [
    "# TODO: add a decent initial setting and tune from there\n",
    "optimizer_config = {\n",
    "  \"optimizer_type\": \"adam\",\n",
    "  \"lr\": 1e-3,\n",
    "  \"weight_decay\": 3e-3\n",
    "}"
   ]
  },
  {
   "cell_type": "code",
   "execution_count": null,
   "metadata": {
    "colab": {},
    "colab_type": "code",
    "id": "72N8uwsZBpIA"
   },
   "outputs": [],
   "source": [
    "optimizer = get_optimizer(my_alexnet, optimizer_config)"
   ]
  },
  {
   "cell_type": "code",
   "execution_count": null,
   "metadata": {
    "colab": {},
    "colab_type": "code",
    "id": "DtCIaTMmBpIK"
   },
   "outputs": [],
   "source": [
    "trainer = Trainer(data_dir='../data/', \n",
    "                  model = my_alexnet,\n",
    "                  optimizer = optimizer,\n",
    "                  model_dir = '../model_checkpoints/myalexnet/',\n",
    "                  train_data_transforms = get_data_augmentation_transforms(inp_size, dataset_mean, dataset_std),\n",
    "                  test_data_transforms = get_fundamental_transforms(inp_size, dataset_mean, dataset_std),\n",
    "                  batch_size = 32,\n",
    "                  load_from_disk = False,\n",
    "                  cuda = is_cuda\n",
    "                 )"
   ]
  },
  {
   "cell_type": "markdown",
   "metadata": {},
   "source": [
    "The following training cell will take roughly 20 minutes or slightly more using CPU (but possibly under 5 minute using GPU depending on the batch size; the TAs got it within 3 minutes on a GTX1060)."
   ]
  },
  {
   "cell_type": "code",
   "execution_count": null,
   "metadata": {
    "colab": {
     "base_uri": "https://localhost:8080/",
     "height": 105
    },
    "colab_type": "code",
    "id": "CAcncwLPBpIQ",
    "outputId": "7a341877-2628-4acf-e99a-a1c96ff51fd8"
   },
   "outputs": [],
   "source": [
    "trainer.train(num_epochs=5)"
   ]
  },
  {
   "cell_type": "markdown",
   "metadata": {},
   "source": [
    "Like both previous sections, you are required to pass a threshold of **85%** for this part. Copy the plots and values onto the report and answer questions accordingly."
   ]
  },
  {
   "cell_type": "code",
   "execution_count": null,
   "metadata": {
    "colab": {
     "base_uri": "https://localhost:8080/",
     "height": 1000
    },
    "colab_type": "code",
    "id": "Cimj95G_BpIU",
    "outputId": "f2356e0d-b2c4-4a13-ff63-4516ee5193d1",
    "scrolled": true
   },
   "outputs": [],
   "source": [
    "trainer.plot_loss_history()\n",
    "trainer.plot_accuracy()"
   ]
  },
  {
   "cell_type": "code",
   "execution_count": null,
   "metadata": {
    "colab": {
     "base_uri": "https://localhost:8080/",
     "height": 35
    },
    "colab_type": "code",
    "id": "qMI3CdEuBpIb",
    "outputId": "ffccde71-d62e-4eae-cd2e-241847b9ee23"
   },
   "outputs": [],
   "source": [
    "train_accuracy = trainer.train_accuracy_history[-1]\n",
    "validation_accuracy = trainer.validation_accuracy_history[-1]\n",
    "print('Train Accuracy = {}; Validation Accuracy = {}'.format(train_accuracy, validation_accuracy))"
   ]
  },
  {
   "cell_type": "markdown",
   "metadata": {},
   "source": [
    "With all these we have concluded the last project of CS6320 Computer Vision. Things might be hard along the way, but we hope you enjoyed this journey and have learnt something in this field. Our team has learnt a lot from you guys as well, so thank you and wish you all the best in your future endeavors!"
   ]
  }
 ],
 "metadata": {
  "accelerator": "GPU",
  "colab": {
   "collapsed_sections": [],
   "name": "dl.ipynb",
   "provenance": [],
   "toc_visible": true
  },
  "kernelspec": {
   "display_name": "Python 3",
   "language": "python",
   "name": "python3"
  },
  "language_info": {
   "codemirror_mode": {
    "name": "ipython",
    "version": 3
   },
   "file_extension": ".py",
   "mimetype": "text/x-python",
   "name": "python",
   "nbconvert_exporter": "python",
   "pygments_lexer": "ipython3",
   "version": "3.6.13"
  }
 },
 "nbformat": 4,
 "nbformat_minor": 1
}
